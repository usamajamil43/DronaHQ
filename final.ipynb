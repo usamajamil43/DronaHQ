{
 "cells": [
  {
   "cell_type": "code",
   "execution_count": null,
   "metadata": {},
   "outputs": [],
   "source": [
    "import pandas as pd\n",
    "df_restaurants = pd.read_csv(\"Final_restaurants.csv\")\n",
    "df_users = pd.read_csv(\"final_users.csv\")\n",
    "df_reviews = pd.read_csv(\"final_reviews.csv\")"
   ]
  },
  {
   "cell_type": "code",
   "execution_count": null,
   "metadata": {},
   "outputs": [],
   "source": [
    "import torch\n",
    "from transformers import AutoTokenizer, AutoModel\n",
    "\n",
    "# Initialize the tokenizer and model for embeddings\n",
    "tokenizer = AutoTokenizer.from_pretrained(\"sentence-transformers/all-MiniLM-L6-v2\")\n",
    "model = AutoModel.from_pretrained(\"sentence-transformers/all-MiniLM-L6-v2\")\n",
    "\n",
    "def get_embeddings(texts: list) -> list:\n",
    "    inputs = tokenizer(texts, padding=True, truncation=True, return_tensors=\"pt\", max_length=512)\n",
    "    with torch.no_grad():\n",
    "        outputs = model(**inputs)\n",
    "    embeddings = outputs.last_hidden_state.mean(dim=1)\n",
    "    return embeddings.numpy().tolist()\n",
    "\n",
    "df_restaurants[\"cuisine_embeddings\"] = get_embeddings(df_restaurants[\"cuisine\"].tolist())\n",
    "df_users[\"cuisine_preference_embeddings\"] = get_embeddings(df_users[\"cuisine_preference\"].tolist())\n",
    "\n",
    "# Get embeddings for reviews\n",
    "df_reviews[\"review_embeddings\"] = get_embeddings(df_reviews[\"review\"].tolist())"
   ]
  },
  {
   "cell_type": "code",
   "execution_count": null,
   "metadata": {},
   "outputs": [],
   "source": [
    "import clickhouse_connect\n",
    "\n",
    "client = clickhouse_connect.get_client(\n",
    "    host='msc-b3eeeb4c.us-east-1.aws.myscale.com',\n",
    "    port=443,\n",
    "    username='usamajamil3434_org_default',\n",
    "    password='passwd_qOpNExYtVW2OcW'\n",
    ")"
   ]
  },
  {
   "cell_type": "code",
   "execution_count": null,
   "metadata": {},
   "outputs": [],
   "source": [
    "\n",
    "client.command(\"\"\"\n",
    "    CREATE TABLE default.users (\n",
    "        userId Int64,\n",
    "        cuisine_preference String,\n",
    "        rating_preference Float32,\n",
    "        price_range Int64,\n",
    "        latitude Float32,\n",
    "        longitude Float32,\n",
    "        cuisine_preference_embeddings Array(Float32),\n",
    "        CONSTRAINT check_data_length CHECK length(cuisine_preference_embeddings) = 384\n",
    "    ) ENGINE = MergeTree()\n",
    "    ORDER BY userId\n",
    "    \"\"\")\n",
    "\n",
    "client.command(\"\"\"\n",
    "    CREATE TABLE default.reviews (\n",
    "        userId Int64,\n",
    "        restaurantId Int64,\n",
    "        rating Float32,\n",
    "        review String,\n",
    "        review_embeddings Array(Float32),\n",
    "        CONSTRAINT check_data_length CHECK length(review_embeddings) = 384\n",
    "    ) ENGINE = MergeTree()\n",
    "    ORDER BY userId\n",
    "    \"\"\")\n",
    "\n",
    "\n",
    "client.command(\"\"\"\n",
    "    CREATE TABLE default.restaurants (\n",
    "        restaurantId Int64,\n",
    "        name String,\n",
    "        cuisine String,\n",
    "        rating Float32,\n",
    "        price_range Int64,\n",
    "        latitude Float32,\n",
    "        longitude Float32,\n",
    "        cuisine_embeddings Array(Float32),\n",
    "        CONSTRAINT check_data_length CHECK length(cuisine_embeddings) = 384\n",
    "    ) ENGINE = MergeTree()\n",
    "    ORDER BY restaurantId\n",
    "    \"\"\")\n"
   ]
  },
  {
   "cell_type": "code",
   "execution_count": null,
   "metadata": {},
   "outputs": [],
   "source": [
    "client.insert(\"default.users\", df_users.to_records(index=False).tolist(), column_names=df_users.columns.tolist())\n",
    "client.insert(\"default.reviews\", df_reviews.to_records(index=False).tolist(), column_names=df_reviews.columns.tolist())\n",
    "client.insert(\"default.restaurants\", df_restaurants.to_records(index=False).tolist(), column_names=df_restaurants.columns.tolist())"
   ]
  },
  {
   "cell_type": "code",
   "execution_count": null,
   "metadata": {},
   "outputs": [],
   "source": [
    "client.command(\"\"\"\n",
    "ALTER TABLE default.users\n",
    "    ADD VECTOR INDEX user_index cuisine_preference_embeddings\n",
    "    TYPE MSTG\n",
    "\"\"\")\n",
    "client.command(\"\"\"\n",
    "ALTER TABLE default.restaurants\n",
    "    ADD VECTOR INDEX restaurant_index cuisine_embeddings\n",
    "    TYPE MSTG\n",
    "\"\"\")\n",
    "\n",
    "client.command(\"\"\"\n",
    "ALTER TABLE default.reviews\n",
    "    ADD VECTOR INDEX reviews_index review_embeddings\n",
    "    TYPE MSTG\n",
    "\"\"\")"
   ]
  }
 ],
 "metadata": {
  "language_info": {
   "name": "python"
  }
 },
 "nbformat": 4,
 "nbformat_minor": 2
}
